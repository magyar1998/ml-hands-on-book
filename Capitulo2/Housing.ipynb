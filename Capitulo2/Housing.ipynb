{
 "cells": [
  {
   "cell_type": "markdown",
   "metadata": {},
   "source": [
    "### Projeto End-to-End"
   ]
  },
  {
   "cell_type": "markdown",
   "metadata": {},
   "source": [
    "### Etapas\n",
    "\n",
    "1. Olhar para o quadro geral;\n",
    "2. Obter os dados;\n",
    "3. Descobrir e visualizar os dados para obter informações;\n",
    "4. Preparar os dados para os algoritmos do Aprendizado de Máquina;\n",
    "5. Selecionar e treinar um modelo;\n",
    "6. Ajustar o seu modelo;\n",
    "7. Apresentar sua solução;\n",
    "8. Lançar, monitorar e manter seu sistema."
   ]
  },
  {
   "cell_type": "code",
   "execution_count": null,
   "metadata": {
    "vscode": {
     "languageId": "plaintext"
    }
   },
   "outputs": [],
   "source": []
  }
 ],
 "metadata": {
  "kernelspec": {
   "display_name": "base",
   "language": "python",
   "name": "python3"
  },
  "language_info": {
   "codemirror_mode": {
    "name": "ipython",
    "version": 3
   },
   "file_extension": ".py",
   "mimetype": "text/x-python",
   "name": "python",
   "nbconvert_exporter": "python",
   "pygments_lexer": "ipython3",
   "version": "3.9.13"
  }
 },
 "nbformat": 4,
 "nbformat_minor": 2
}
