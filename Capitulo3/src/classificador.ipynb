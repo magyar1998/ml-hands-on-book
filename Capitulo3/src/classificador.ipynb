{
 "cells": [
  {
   "cell_type": "markdown",
   "metadata": {},
   "source": [
    "### Modelos de Classificação"
   ]
  },
  {
   "cell_type": "markdown",
   "metadata": {},
   "source": [
    "https://github.com/ageron/handson-ml3 <br>\n",
    "https://github.com/ageron/handson-ml2"
   ]
  },
  {
   "cell_type": "markdown",
   "metadata": {},
   "source": [
    "### Etapas\n",
    "\n",
    "1. Olhar para o quadro geral;\n",
    "2. Obter os dados;\n",
    "3. Descobrir e visualizar os dados para obter informações;\n",
    "4. Preparar os dados para os algoritmos do Aprendizado de Máquina;\n",
    "5. Selecionar e treinar um modelo;\n",
    "6. Ajustar o seu modelo;\n",
    "7. Apresentar sua solução;\n",
    "8. Lançar, monitorar e manter seu sistema.\n",
    "\n",
    "\n",
    "### Apendice B\n",
    "#### Lista de Verificação do Projeto de Aprendizado de Máquina\n",
    "\n",
    "1. Foque o problema e olhe para o quadro geral;\n",
    "2. Obtenha os dados;\n",
    "3. Explore os dados para obter insights;\n",
    "4. Prepare os dados para melhor expor os padrões de dados subjacentes aos algoritmos do Aprendizado de Máquina;\n",
    "5. Explore vários diferentes modelos e liste os melhores;\n",
    "6. Ajuste seus modelos e combine-os em uma ótima solução;\n",
    "7. Apresente sua solução;\n",
    "8. Lance, monitore e faça a manutenção de seu sistema."
   ]
  },
  {
   "cell_type": "markdown",
   "metadata": {},
   "source": [
    "### Importando Dataset"
   ]
  },
  {
   "cell_type": "code",
   "execution_count": 1,
   "metadata": {},
   "outputs": [],
   "source": [
    "from sklearn.datasets import fetch_openml\n",
    "mnist = fetch_openml('mnist_784', as_frame=False)"
   ]
  },
  {
   "cell_type": "code",
   "execution_count": 2,
   "metadata": {},
   "outputs": [
    {
     "data": {
      "text/plain": [
       "dict_keys(['data', 'target', 'frame', 'categories', 'feature_names', 'target_names', 'DESCR', 'details', 'url'])"
      ]
     },
     "execution_count": 2,
     "metadata": {},
     "output_type": "execute_result"
    }
   ],
   "source": [
    "mnist.keys()"
   ]
  },
  {
   "cell_type": "code",
   "execution_count": 3,
   "metadata": {},
   "outputs": [],
   "source": [
    "X, y = mnist['data'], mnist['target']"
   ]
  },
  {
   "cell_type": "code",
   "execution_count": 4,
   "metadata": {},
   "outputs": [
    {
     "data": {
      "text/plain": [
       "((70000, 784), (70000,))"
      ]
     },
     "execution_count": 4,
     "metadata": {},
     "output_type": "execute_result"
    }
   ],
   "source": [
    "X.shape, y.shape"
   ]
  },
  {
   "cell_type": "code",
   "execution_count": 5,
   "metadata": {},
   "outputs": [
    {
     "data": {
      "text/plain": [
       "array([[0., 0., 0., ..., 0., 0., 0.],\n",
       "       [0., 0., 0., ..., 0., 0., 0.],\n",
       "       [0., 0., 0., ..., 0., 0., 0.],\n",
       "       ...,\n",
       "       [0., 0., 0., ..., 0., 0., 0.],\n",
       "       [0., 0., 0., ..., 0., 0., 0.],\n",
       "       [0., 0., 0., ..., 0., 0., 0.]])"
      ]
     },
     "execution_count": 5,
     "metadata": {},
     "output_type": "execute_result"
    }
   ],
   "source": [
    "X"
   ]
  },
  {
   "cell_type": "code",
   "execution_count": 6,
   "metadata": {},
   "outputs": [],
   "source": [
    "import matplotlib.pyplot as plt  "
   ]
  },
  {
   "cell_type": "code",
   "execution_count": 7,
   "metadata": {},
   "outputs": [],
   "source": [
    "def show_image(image_data):\n",
    "    X_image = image_data.reshape(28, 28)\n",
    "    plt.imshow(X_image, cmap='binary')\n",
    "    plt.show()"
   ]
  },
  {
   "cell_type": "code",
   "execution_count": 8,
   "metadata": {},
   "outputs": [
    {
     "data": {
      "image/png": "[encoded data removed]",
      "text/plain": [
       "<Figure size 640x480 with 1 Axes>"
      ]
     },
     "metadata": {},
     "output_type": "display_data"
    },
    {
     "data": {
      "text/plain": [
       "(None, '5')"
      ]
     },
     "execution_count": 8,
     "metadata": {},
     "output_type": "execute_result"
    }
   ],
   "source": [
    "some_digit = X[0]\n",
    "show_image(some_digit), y[0]"
   ]
  },
  {
   "cell_type": "markdown",
   "metadata": {},
   "source": [
    "### Dividindo o Dataset em Treino e Teste"
   ]
  },
  {
   "cell_type": "code",
   "execution_count": 9,
   "metadata": {},
   "outputs": [],
   "source": [
    "x_train, x_test, y_train, y_test = X[:60000], X[60000:], y[:60000], y[60000:]"
   ]
  },
  {
   "cell_type": "code",
   "execution_count": 10,
   "metadata": {},
   "outputs": [
    {
     "data": {
      "text/plain": [
       "((60000, 784), (60000,), (10000, 784), (10000,))"
      ]
     },
     "execution_count": 10,
     "metadata": {},
     "output_type": "execute_result"
    }
   ],
   "source": [
    "x_train.shape, y_train.shape, x_test.shape, y_test.shape"
   ]
  },
  {
   "cell_type": "code",
   "execution_count": 11,
   "metadata": {},
   "outputs": [],
   "source": [
    "y_train_5 = (y_train=='5')\n",
    "y_test_5 = (y_test=='5') "
   ]
  },
  {
   "cell_type": "code",
   "execution_count": 12,
   "metadata": {},
   "outputs": [
    {
     "data": {
      "text/plain": [
       "(array([ True, False, False, ...,  True, False, False]),\n",
       " array([False, False, False, ..., False,  True, False]))"
      ]
     },
     "execution_count": 12,
     "metadata": {},
     "output_type": "execute_result"
    }
   ],
   "source": [
    "y_train_5, y_test_5"
   ]
  },
  {
   "cell_type": "code",
   "execution_count": 13,
   "metadata": {},
   "outputs": [
    {
     "data": {
      "text/plain": [
       "SGDClassifier(random_state=42)"
      ]
     },
     "execution_count": 13,
     "metadata": {},
     "output_type": "execute_result"
    }
   ],
   "source": [
    "from sklearn.linear_model import SGDClassifier\n",
    "\n",
    "sdg = SGDClassifier(random_state=42)\n",
    "sdg.fit(x_train, y_train_5)"
   ]
  },
  {
   "cell_type": "code",
   "execution_count": null,
   "metadata": {},
   "outputs": [
    {
     "data": {
      "text/plain": [
       "array([ True, False, False, ...,  True, False, False])"
      ]
     },
     "execution_count": 29,
     "metadata": {},
     "output_type": "execute_result"
    }
   ],
   "source": [
    "sdg.predict(some_digit.reshape(1, -1))"
   ]
  },
  {
   "cell_type": "markdown",
   "metadata": {},
   "source": [
    "### Avaliando o Modelo de Classificação"
   ]
  },
  {
   "cell_type": "code",
   "execution_count": 15,
   "metadata": {},
   "outputs": [],
   "source": [
    "from sklearn.model_selection import cross_val_score\n",
    "\n",
    "scores = cross_val_score(sdg, x_train, y_train_5, cv=3, scoring='accuracy')"
   ]
  },
  {
   "cell_type": "code",
   "execution_count": 16,
   "metadata": {},
   "outputs": [],
   "source": [
    "def display_results(scores): \n",
    "    print('Scores: ', scores)\n",
    "    print('Média do score: ', f'{scores.mean(): .2f}')"
   ]
  },
  {
   "cell_type": "code",
   "execution_count": 17,
   "metadata": {},
   "outputs": [
    {
     "name": "stdout",
     "output_type": "stream",
     "text": [
      "Scores:  [0.95035 0.96035 0.9604 ]\n",
      "Média do score:   0.96\n"
     ]
    }
   ],
   "source": [
    "display_results(scores)"
   ]
  },
  {
   "cell_type": "code",
   "execution_count": 18,
   "metadata": {},
   "outputs": [
    {
     "name": "stdout",
     "output_type": "stream",
     "text": [
      "Scores:  [0.90965 0.90965 0.90965]\n",
      "Média do score:   0.91\n"
     ]
    }
   ],
   "source": [
    "from sklearn.dummy import DummyClassifier\n",
    "\n",
    "dummy_clf = DummyClassifier(strategy='most_frequent')\n",
    "dummy_clf.fit(x_train, y_train_5)\n",
    "\n",
    "scores_dummmy = cross_val_score(dummy_clf, x_train, y_train_5, cv=3, scoring='accuracy')\n",
    "display_results(scores_dummmy)"
   ]
  },
  {
   "cell_type": "markdown",
   "metadata": {},
   "source": [
    "##### Implementando código para Validação Cruzada:"
   ]
  },
  {
   "cell_type": "code",
   "execution_count": 36,
   "metadata": {},
   "outputs": [],
   "source": [
    "from sklearn.model_selection import StratifiedKFold\n",
    "from sklearn.base import clone\n",
    "from sklearn.metrics import accuracy_score, make_scorer\n",
    "\n",
    "\n",
    "def cross_validation_score(model, X, y, cv):\n",
    "    skt = StratifiedKFold(n_splits=cv)\n",
    "    for i, (train_index, test_index) in enumerate(skt.split(X, y)):\n",
    "\n",
    "        print(f\"Fold {i}:\")\n",
    "        print(f\"  Train: index={train_index}\")\n",
    "        print(f\"  Test:  index={test_index}\")    \n",
    "        clone_model = clone(model)\n",
    "        X_train_fold = X[train_index]\n",
    "        y_train_fold = y[train_index]\n",
    "\n",
    "        X_test_fold = X[test_index]\n",
    "        y_test_fold = y[test_index]\n",
    "\n",
    "        clone_model.fit(X_train_fold, y_train_fold)\n",
    "        y_pred_fold = clone_model.predict(X_test_fold)\n",
    "\n",
    "        score_fold = accuracy_score(y_test_fold, y_pred_fold)\n",
    "\n",
    "        print(score_fold)"
   ]
  },
  {
   "cell_type": "code",
   "execution_count": 38,
   "metadata": {},
   "outputs": [
    {
     "name": "stdout",
     "output_type": "stream",
     "text": [
      "Fold 0:\n",
      "  Train: index=[19964 19965 19966 ... 59997 59998 59999]\n",
      "  Test:  index=[    0     1     2 ... 20331 20342 20359]\n",
      "0.95035\n",
      "Fold 1:\n",
      "  Train: index=[    0     1     2 ... 59997 59998 59999]\n",
      "  Test:  index=[19964 19965 19966 ... 40088 40125 40127]\n",
      "0.96035\n",
      "Fold 2:\n",
      "  Train: index=[    0     1     2 ... 40088 40125 40127]\n",
      "  Test:  index=[39988 39989 39990 ... 59997 59998 59999]\n",
      "0.9604\n"
     ]
    }
   ],
   "source": [
    "cross_validation_score(model=sdg, X = x_train, y = y_train_5, cv=3)"
   ]
  },
  {
   "cell_type": "code",
   "execution_count": 39,
   "metadata": {},
   "outputs": [
    {
     "data": {
      "text/plain": [
       "array([0.95035, 0.96035, 0.9604 ])"
      ]
     },
     "execution_count": 39,
     "metadata": {},
     "output_type": "execute_result"
    }
   ],
   "source": [
    "cross_val_score(sdg, x_train, y_train_5, cv=3, scoring='accuracy')"
   ]
  },
  {
   "cell_type": "code",
   "execution_count": 41,
   "metadata": {},
   "outputs": [
    {
     "name": "stdout",
     "output_type": "stream",
     "text": [
      "[ True False False ...  True False False]\n"
     ]
    }
   ],
   "source": [
    "from sklearn.model_selection import cross_val_predict\n",
    "\n",
    "y_pred_5 = cross_val_predict(sdg, x_train, y_train_5, cv=3)\n",
    "print(y_pred_5)\n"
   ]
  },
  {
   "cell_type": "markdown",
   "metadata": {},
   "source": [
    "Each row in a confusion matrix represents an actual class, while each column\n",
    "represents a predicted class. The first row of this matrix considers non-5\n",
    "images (the negative class): 53,892 of them were correctly classified as non-\n",
    "5s (they are called true negatives), while the remaining 687 were wrongly\n",
    "classified as 5s (false positives, also called type I errors). The second row\n",
    "considers the images of 5s (the positive class): 1,891 were wrongly classified\n",
    "as non-5s (false negatives, also called type II errors), while the remaining\n",
    "3,530 were correctly classified as 5s (true positives). A perfect classifier\n",
    "would only have true positives and true negatives, so its confusion matrix\n",
    "would have nonzero values only on its main diagonal (top left to bottom\n",
    "right):"
   ]
  },
  {
   "cell_type": "code",
   "execution_count": 54,
   "metadata": {},
   "outputs": [
    {
     "name": "stdout",
     "output_type": "stream",
     "text": [
      "Matriz de confusão\n",
      " [[53892   687]\n",
      " [ 1891  3530]]\n",
      "Verdadeiros positivos: 3530\n",
      "Verdadeiros negativos: 53892\n",
      "Falsos negativos: 1891\n",
      "Falsos positivos: 687\n"
     ]
    }
   ],
   "source": [
    "from sklearn.metrics import confusion_matrix\n",
    "\n",
    "cm = confusion_matrix(y_train_5, y_pred_5)\n",
    "cm\n",
    "\n",
    "\n",
    "TP = cm[1, 1]\n",
    "TN = cm[0,0]\n",
    "FN = cm[1, 0]\n",
    "FP = cm[0, 1]\n",
    "\n",
    "print('Matriz de confusão\\n',cm)\n",
    "print('Verdadeiros positivos:', TP)\n",
    "print('Verdadeiros negativos:', TN)\n",
    "print('Falsos negativos:', FN)\n",
    "print('Falsos positivos:', FP)\n"
   ]
  },
  {
   "cell_type": "code",
   "execution_count": 44,
   "metadata": {},
   "outputs": [
    {
     "data": {
      "text/plain": [
       "array([[54579,     0],\n",
       "       [    0,  5421]], dtype=int64)"
      ]
     },
     "execution_count": 44,
     "metadata": {},
     "output_type": "execute_result"
    }
   ],
   "source": [
    "y_pred_perfect = y_train_5\n",
    "\n",
    "cm_perfect = confusion_matrix(y_train_5, y_pred_perfect)\n",
    "cm_perfect"
   ]
  },
  {
   "cell_type": "code",
   "execution_count": 55,
   "metadata": {},
   "outputs": [],
   "source": [
    "# Precision\n",
    "\n",
    "precision_ = round(TP / (TP + FP) * 100, 2)\n",
    "\n",
    "\n",
    "# Recall or Sensitivity\n",
    "\n",
    "recall_ = round(TP / (TP + FN) * 100, 2)"
   ]
  },
  {
   "cell_type": "code",
   "execution_count": 56,
   "metadata": {},
   "outputs": [],
   "source": [
    "from sklearn.metrics import precision_score, recall_score\n",
    "\n",
    "precision = precision_score(y_train_5, y_pred_5)\n",
    "recall = recall_score(y_train_5, y_pred_5)"
   ]
  },
  {
   "cell_type": "markdown",
   "metadata": {},
   "source": [
    "Now our 5-detector does not look as shiny as it did when we looked at its\n",
    "accuracy. When it claims an image represents a 5, it is correct only 83.7% of\n",
    "the time. Moreover, it only detects 65.1% of the 5s.\n"
   ]
  },
  {
   "cell_type": "code",
   "execution_count": 60,
   "metadata": {},
   "outputs": [
    {
     "name": "stdout",
     "output_type": "stream",
     "text": [
      "Recall: 65.12  65.12\n",
      "Precision: 83.71  83.71\n"
     ]
    }
   ],
   "source": [
    "print('Recall:', recall_, f'{recall*100: .2f}')\n",
    "print('Precision:', precision_, f'{precision*100: .2f}')"
   ]
  }
 ],
 "metadata": {
  "kernelspec": {
   "display_name": "base",
   "language": "python",
   "name": "python3"
  },
  "language_info": {
   "codemirror_mode": {
    "name": "ipython",
    "version": 3
   },
   "file_extension": ".py",
   "mimetype": "text/x-python",
   "name": "python",
   "nbconvert_exporter": "python",
   "pygments_lexer": "ipython3",
   "version": "3.9.13"
  }
 },
 "nbformat": 4,
 "nbformat_minor": 2
}
