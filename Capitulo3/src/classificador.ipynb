{
 "cells": [
  {
   "cell_type": "markdown",
   "metadata": {},
   "source": [
    "### Modelos de Classificação"
   ]
  },
  {
   "cell_type": "markdown",
   "metadata": {},
   "source": [
    "https://github.com/ageron/handson-ml3 <br>\n",
    "https://github.com/ageron/handson-ml2"
   ]
  },
  {
   "cell_type": "markdown",
   "metadata": {},
   "source": [
    "### Etapas\n",
    "\n",
    "1. Olhar para o quadro geral;\n",
    "2. Obter os dados;\n",
    "3. Descobrir e visualizar os dados para obter informações;\n",
    "4. Preparar os dados para os algoritmos do Aprendizado de Máquina;\n",
    "5. Selecionar e treinar um modelo;\n",
    "6. Ajustar o seu modelo;\n",
    "7. Apresentar sua solução;\n",
    "8. Lançar, monitorar e manter seu sistema.\n",
    "\n",
    "\n",
    "### Apendice B\n",
    "#### Lista de Verificação do Projeto de Aprendizado de Máquina\n",
    "\n",
    "1. Foque o problema e olhe para o quadro geral;\n",
    "2. Obtenha os dados;\n",
    "3. Explore os dados para obter insights;\n",
    "4. Prepare os dados para melhor expor os padrões de dados subjacentes aos algoritmos do Aprendizado de Máquina;\n",
    "5. Explore vários diferentes modelos e liste os melhores;\n",
    "6. Ajuste seus modelos e combine-os em uma ótima solução;\n",
    "7. Apresente sua solução;\n",
    "8. Lance, monitore e faça a manutenção de seu sistema."
   ]
  },
  {
   "cell_type": "markdown",
   "metadata": {},
   "source": [
    "### Importando Dataset"
   ]
  },
  {
   "cell_type": "code",
   "execution_count": 1,
   "metadata": {},
   "outputs": [],
   "source": [
    "from sklearn.datasets import fetch_openml\n",
    "mnist = fetch_openml('mnist_784', as_frame=False)"
   ]
  },
  {
   "cell_type": "code",
   "execution_count": 2,
   "metadata": {},
   "outputs": [
    {
     "data": {
      "text/plain": [
       "dict_keys(['data', 'target', 'frame', 'categories', 'feature_names', 'target_names', 'DESCR', 'details', 'url'])"
      ]
     },
     "execution_count": 2,
     "metadata": {},
     "output_type": "execute_result"
    }
   ],
   "source": [
    "mnist.keys()"
   ]
  },
  {
   "cell_type": "code",
   "execution_count": 3,
   "metadata": {},
   "outputs": [],
   "source": [
    "X, y = mnist['data'], mnist['target']"
   ]
  },
  {
   "cell_type": "code",
   "execution_count": null,
   "metadata": {},
   "outputs": [
    {
     "data": {
      "text/plain": [
       "((70000, 784), (70000,))"
      ]
     },
     "execution_count": 4,
     "metadata": {},
     "output_type": "execute_result"
    }
   ],
   "source": [
    "X.shape, y.shape"
   ]
  },
  {
   "cell_type": "code",
   "execution_count": 5,
   "metadata": {},
   "outputs": [
    {
     "data": {
      "text/plain": [
       "array([[0., 0., 0., ..., 0., 0., 0.],\n",
       "       [0., 0., 0., ..., 0., 0., 0.],\n",
       "       [0., 0., 0., ..., 0., 0., 0.],\n",
       "       ...,\n",
       "       [0., 0., 0., ..., 0., 0., 0.],\n",
       "       [0., 0., 0., ..., 0., 0., 0.],\n",
       "       [0., 0., 0., ..., 0., 0., 0.]])"
      ]
     },
     "execution_count": 5,
     "metadata": {},
     "output_type": "execute_result"
    }
   ],
   "source": [
    "X"
   ]
  },
  {
   "cell_type": "code",
   "execution_count": 6,
   "metadata": {},
   "outputs": [],
   "source": [
    "import matplotlib.pyplot as plt  "
   ]
  },
  {
   "cell_type": "code",
   "execution_count": 7,
   "metadata": {},
   "outputs": [],
   "source": [
    "def show_image(image_data):\n",
    "    X_image = image_data.reshape(28, 28)\n",
    "    plt.imshow(X_image, cmap='binary')\n",
    "    plt.show()"
   ]
  },
  {
   "cell_type": "code",
   "execution_count": 8,
   "metadata": {},
   "outputs": [
    {
     "data": {
      "image/png": "[encoded data removed]",
      "text/plain": [
       "<Figure size 640x480 with 1 Axes>"
      ]
     },
     "metadata": {},
     "output_type": "display_data"
    },
    {
     "data": {
      "text/plain": [
       "(None, '5')"
      ]
     },
     "execution_count": 8,
     "metadata": {},
     "output_type": "execute_result"
    }
   ],
   "source": [
    "some_digit = X[0]\n",
    "show_image(some_digit), y[0]"
   ]
  },
  {
   "cell_type": "markdown",
   "metadata": {},
   "source": [
    "### Dividindo o Dataset em Treino e Teste"
   ]
  },
  {
   "cell_type": "code",
   "execution_count": 9,
   "metadata": {},
   "outputs": [],
   "source": [
    "x_train, x_test, y_train, y_test = X[:60000], X[60000:], y[:60000], y[60000:]"
   ]
  },
  {
   "cell_type": "code",
   "execution_count": 10,
   "metadata": {},
   "outputs": [
    {
     "data": {
      "text/plain": [
       "((60000, 784), (60000,), (10000, 784), (10000,))"
      ]
     },
     "execution_count": 10,
     "metadata": {},
     "output_type": "execute_result"
    }
   ],
   "source": [
    "x_train.shape, y_train.shape, x_test.shape, y_test.shape"
   ]
  },
  {
   "cell_type": "code",
   "execution_count": 11,
   "metadata": {},
   "outputs": [],
   "source": [
    "y_train_5 = (y_train=='5')\n",
    "y_test_5 = (y_test=='5') "
   ]
  },
  {
   "cell_type": "code",
   "execution_count": 12,
   "metadata": {},
   "outputs": [
    {
     "data": {
      "text/plain": [
       "(array([ True, False, False, ...,  True, False, False]),\n",
       " array([False, False, False, ..., False,  True, False]))"
      ]
     },
     "execution_count": 12,
     "metadata": {},
     "output_type": "execute_result"
    }
   ],
   "source": [
    "y_train_5, y_test_5"
   ]
  },
  {
   "cell_type": "code",
   "execution_count": 13,
   "metadata": {},
   "outputs": [
    {
     "data": {
      "text/plain": [
       "SGDClassifier(random_state=42)"
      ]
     },
     "execution_count": 13,
     "metadata": {},
     "output_type": "execute_result"
    }
   ],
   "source": [
    "from sklearn.linear_model import SGDClassifier\n",
    "\n",
    "sdg = SGDClassifier(random_state=42)\n",
    "sdg.fit(x_train, y_train_5)"
   ]
  },
  {
   "cell_type": "code",
   "execution_count": 14,
   "metadata": {},
   "outputs": [
    {
     "data": {
      "text/plain": [
       "array([ True])"
      ]
     },
     "execution_count": 14,
     "metadata": {},
     "output_type": "execute_result"
    }
   ],
   "source": [
    "sdg.predict(some_digit.reshape(1, -1))"
   ]
  },
  {
   "cell_type": "markdown",
   "metadata": {},
   "source": [
    "### Avaliando o Modelo de Classificação"
   ]
  },
  {
   "cell_type": "code",
   "execution_count": 15,
   "metadata": {},
   "outputs": [],
   "source": [
    "from sklearn.model_selection import cross_val_score\n",
    "\n",
    "scores = cross_val_score(sdg, x_train, y_train_5, cv=3, scoring='accuracy')"
   ]
  },
  {
   "cell_type": "code",
   "execution_count": 16,
   "metadata": {},
   "outputs": [],
   "source": [
    "def display_results(scores): \n",
    "    print('Scores: ', scores)\n",
    "    print('Média do score: ', f'{scores.mean(): .2f}')"
   ]
  },
  {
   "cell_type": "code",
   "execution_count": 17,
   "metadata": {},
   "outputs": [
    {
     "name": "stdout",
     "output_type": "stream",
     "text": [
      "Scores:  [0.95035 0.96035 0.9604 ]\n",
      "Média do score:   0.96\n"
     ]
    }
   ],
   "source": [
    "display_results(scores)"
   ]
  },
  {
   "cell_type": "code",
   "execution_count": 18,
   "metadata": {},
   "outputs": [
    {
     "name": "stdout",
     "output_type": "stream",
     "text": [
      "Scores:  [0.90965 0.90965 0.90965]\n",
      "Média do score:   0.91\n"
     ]
    }
   ],
   "source": [
    "from sklearn.dummy import DummyClassifier\n",
    "\n",
    "dummy_clf = DummyClassifier(strategy='most_frequent')\n",
    "dummy_clf.fit(x_train, y_train_5)\n",
    "\n",
    "scores_dummmy = cross_val_score(dummy_clf, x_train, y_train_5, cv=3, scoring='accuracy')\n",
    "display_results(scores_dummmy)"
   ]
  },
  {
   "cell_type": "markdown",
   "metadata": {},
   "source": [
    "##### Implementando código para Validação Cruzada:"
   ]
  },
  {
   "cell_type": "code",
   "execution_count": 19,
   "metadata": {},
   "outputs": [],
   "source": [
    "from sklearn.model_selection import StratifiedKFold\n",
    "from sklearn.base import clone\n",
    "from sklearn.metrics import accuracy_score, make_scorer\n",
    "\n",
    "\n",
    "def cross_validation_score(model, X, y, cv):\n",
    "    skt = StratifiedKFold(n_splits=cv)\n",
    "    for i, (train_index, test_index) in enumerate(skt.split(X, y)):\n",
    "\n",
    "        print(f\"Fold {i}:\")\n",
    "        print(f\"  Train: index={train_index}\")\n",
    "        print(f\"  Test:  index={test_index}\")    \n",
    "        clone_model = clone(model)\n",
    "        X_train_fold = X[train_index]\n",
    "        y_train_fold = y[train_index]\n",
    "\n",
    "        X_test_fold = X[test_index]\n",
    "        y_test_fold = y[test_index]\n",
    "\n",
    "        clone_model.fit(X_train_fold, y_train_fold)\n",
    "        y_pred_fold = clone_model.predict(X_test_fold)\n",
    "\n",
    "        score_fold = accuracy_score(y_test_fold, y_pred_fold)\n",
    "\n",
    "        print(score_fold)"
   ]
  },
  {
   "cell_type": "code",
   "execution_count": 20,
   "metadata": {},
   "outputs": [
    {
     "name": "stdout",
     "output_type": "stream",
     "text": [
      "Fold 0:\n",
      "  Train: index=[19964 19965 19966 ... 59997 59998 59999]\n",
      "  Test:  index=[    0     1     2 ... 20331 20342 20359]\n",
      "0.95035\n",
      "Fold 1:\n",
      "  Train: index=[    0     1     2 ... 59997 59998 59999]\n",
      "  Test:  index=[19964 19965 19966 ... 40088 40125 40127]\n",
      "0.96035\n",
      "Fold 2:\n",
      "  Train: index=[    0     1     2 ... 40088 40125 40127]\n",
      "  Test:  index=[39988 39989 39990 ... 59997 59998 59999]\n",
      "0.9604\n"
     ]
    }
   ],
   "source": [
    "cross_validation_score(model=sdg, X = x_train, y = y_train_5, cv=3)"
   ]
  },
  {
   "cell_type": "code",
   "execution_count": 21,
   "metadata": {},
   "outputs": [
    {
     "data": {
      "text/plain": [
       "array([0.95035, 0.96035, 0.9604 ])"
      ]
     },
     "execution_count": 21,
     "metadata": {},
     "output_type": "execute_result"
    }
   ],
   "source": [
    "cross_val_score(sdg, x_train, y_train_5, cv=3, scoring='accuracy')"
   ]
  },
  {
   "cell_type": "code",
   "execution_count": 22,
   "metadata": {},
   "outputs": [
    {
     "name": "stdout",
     "output_type": "stream",
     "text": [
      "[ True False False ...  True False False]\n"
     ]
    }
   ],
   "source": [
    "from sklearn.model_selection import cross_val_predict\n",
    "\n",
    "y_pred_5 = cross_val_predict(sdg, x_train, y_train_5, cv=3)\n",
    "print(y_pred_5)\n"
   ]
  },
  {
   "cell_type": "markdown",
   "metadata": {},
   "source": [
    "Each row in a confusion matrix represents an actual class, while each column\n",
    "represents a predicted class. The first row of this matrix considers non-5\n",
    "images (the negative class): 53,892 of them were correctly classified as non-\n",
    "5s (they are called true negatives), while the remaining 687 were wrongly\n",
    "classified as 5s (false positives, also called type I errors). The second row\n",
    "considers the images of 5s (the positive class): 1,891 were wrongly classified\n",
    "as non-5s (false negatives, also called type II errors), while the remaining\n",
    "3,530 were correctly classified as 5s (true positives). A perfect classifier\n",
    "would only have true positives and true negatives, so its confusion matrix\n",
    "would have nonzero values only on its main diagonal (top left to bottom\n",
    "right):"
   ]
  },
  {
   "cell_type": "code",
   "execution_count": 23,
   "metadata": {},
   "outputs": [
    {
     "name": "stdout",
     "output_type": "stream",
     "text": [
      "Matriz de confusão\n",
      " [[53892   687]\n",
      " [ 1891  3530]]\n",
      "Verdadeiros positivos: 3530\n",
      "Verdadeiros negativos: 53892\n",
      "Falsos negativos: 1891\n",
      "Falsos positivos: 687\n"
     ]
    }
   ],
   "source": [
    "from sklearn.metrics import confusion_matrix\n",
    "\n",
    "cm = confusion_matrix(y_train_5, y_pred_5)\n",
    "cm\n",
    "\n",
    "\n",
    "TP = cm[1, 1]\n",
    "TN = cm[0,0]\n",
    "FN = cm[1, 0]\n",
    "FP = cm[0, 1]\n",
    "\n",
    "print('Matriz de confusão\\n',cm)\n",
    "print('Verdadeiros positivos:', TP)\n",
    "print('Verdadeiros negativos:', TN)\n",
    "print('Falsos negativos:', FN)\n",
    "print('Falsos positivos:', FP)\n"
   ]
  },
  {
   "cell_type": "code",
   "execution_count": 24,
   "metadata": {},
   "outputs": [
    {
     "data": {
      "text/plain": [
       "array([[54579,     0],\n",
       "       [    0,  5421]], dtype=int64)"
      ]
     },
     "execution_count": 24,
     "metadata": {},
     "output_type": "execute_result"
    }
   ],
   "source": [
    "y_pred_perfect = y_train_5\n",
    "\n",
    "cm_perfect = confusion_matrix(y_train_5, y_pred_perfect)\n",
    "cm_perfect"
   ]
  },
  {
   "cell_type": "code",
   "execution_count": 25,
   "metadata": {},
   "outputs": [],
   "source": [
    "# Precision\n",
    "\n",
    "precision_ = round(TP / (TP + FP) * 100, 2)\n",
    "\n",
    "\n",
    "# Recall or Sensitivity\n",
    "\n",
    "recall_ = round(TP / (TP + FN) * 100, 2)"
   ]
  },
  {
   "cell_type": "code",
   "execution_count": 26,
   "metadata": {},
   "outputs": [],
   "source": [
    "from sklearn.metrics import precision_score, recall_score\n",
    "\n",
    "precision = precision_score(y_train_5, y_pred_5)\n",
    "recall = recall_score(y_train_5, y_pred_5)"
   ]
  },
  {
   "cell_type": "markdown",
   "metadata": {},
   "source": [
    "Now our 5-detector does not look as shiny as it did when we looked at its\n",
    "accuracy. When it claims an image represents a 5, it is correct only 83.7% of\n",
    "the time. Moreover, it only detects 65.1% of the 5s.\n"
   ]
  },
  {
   "cell_type": "code",
   "execution_count": 27,
   "metadata": {},
   "outputs": [
    {
     "name": "stdout",
     "output_type": "stream",
     "text": [
      "Recall: 65.12  65.12\n",
      "Precision: 83.71  83.71\n"
     ]
    }
   ],
   "source": [
    "print('Recall:', recall_, f'{recall*100: .2f}')\n",
    "print('Precision:', precision_, f'{precision*100: .2f}')"
   ]
  },
  {
   "cell_type": "code",
   "execution_count": 28,
   "metadata": {},
   "outputs": [
    {
     "name": "stdout",
     "output_type": "stream",
     "text": [
      "f1_score:  73.25\n"
     ]
    }
   ],
   "source": [
    "from sklearn.metrics import f1_score\n",
    "\n",
    "fscore = f1_score(y_train_5, y_pred_5)\n",
    "print('f1_score:', f'{fscore*100: .2f}')"
   ]
  },
  {
   "cell_type": "code",
   "execution_count": 29,
   "metadata": {},
   "outputs": [
    {
     "name": "stdout",
     "output_type": "stream",
     "text": [
      "[  2164.22030239  -5897.37359354 -13489.14805779 ...   6007.43513003\n",
      "   -695.89564908  -3991.49590678]\n"
     ]
    }
   ],
   "source": [
    "y_scores = sdg.decision_function(x_train)\n",
    "print(y_scores)"
   ]
  },
  {
   "cell_type": "code",
   "execution_count": 30,
   "metadata": {},
   "outputs": [
    {
     "name": "stdout",
     "output_type": "stream",
     "text": [
      "[2164.22030239]\n",
      "[ True]\n"
     ]
    }
   ],
   "source": [
    "threshold = 0\n",
    "y_some_digit_score = sdg.decision_function(some_digit.reshape(1, -1))\n",
    "print(y_some_digit_score)\n",
    "\n",
    "print(y_some_digit_score > threshold)"
   ]
  },
  {
   "cell_type": "code",
   "execution_count": 31,
   "metadata": {},
   "outputs": [],
   "source": [
    "scores_prediction = cross_val_predict(sdg, x_train, y_train_5, cv=3, method='decision_function')"
   ]
  },
  {
   "cell_type": "code",
   "execution_count": 82,
   "metadata": {},
   "outputs": [],
   "source": [
    "from sklearn.metrics import precision_recall_curve\n",
    "\n",
    "\n",
    "precision, recall, thresholds = precision_recall_curve(y_train_5, scores_prediction)"
   ]
  },
  {
   "cell_type": "code",
   "execution_count": 33,
   "metadata": {},
   "outputs": [
    {
     "data": {
      "text/plain": [
       "array([0.09040123, 0.09038606, 0.09038757, ..., 1.        , 1.        ,\n",
       "       1.        ])"
      ]
     },
     "execution_count": 33,
     "metadata": {},
     "output_type": "execute_result"
    }
   ],
   "source": [
    "precision[:-1]"
   ]
  },
  {
   "cell_type": "code",
   "execution_count": 34,
   "metadata": {},
   "outputs": [],
   "source": [
    "threshold = 0"
   ]
  },
  {
   "cell_type": "code",
   "execution_count": 35,
   "metadata": {},
   "outputs": [
    {
     "data": {
      "image/png": "[encoded data removed]",
      "text/plain": [
       "<Figure size 640x480 with 1 Axes>"
      ]
     },
     "metadata": {},
     "output_type": "display_data"
    }
   ],
   "source": [
    "plt.plot(thresholds, precision[:-1], label = 'precision', color = 'blue')\n",
    "plt.plot(thresholds, recall[:-1], label = 'recall',  color = 'green')\n",
    "plt.vlines(threshold, 0, 1.0 ,linestyles='dotted', color = 'black')\n",
    "plt.legend()\n",
    "plt.show()"
   ]
  },
  {
   "cell_type": "code",
   "execution_count": 36,
   "metadata": {},
   "outputs": [
    {
     "data": {
      "text/plain": [
       "[<matplotlib.lines.Line2D at 0x1ce02039640>]"
      ]
     },
     "execution_count": 36,
     "metadata": {},
     "output_type": "execute_result"
    },
    {
     "data": {
      "image/png": "[encoded data removed]",
      "text/plain": [
       "<Figure size 640x480 with 1 Axes>"
      ]
     },
     "metadata": {},
     "output_type": "display_data"
    }
   ],
   "source": [
    "plt.plot(recall[:-1], precision[:-1], color = 'blue', linewidth=2, label=\"Precision/Recall curve\")"
   ]
  },
  {
   "cell_type": "code",
   "execution_count": 39,
   "metadata": {},
   "outputs": [],
   "source": [
    "idx_for_90_precision = (precision >= 0.90).argmax()\n",
    "threshold_for_90_precision = thresholds[idx_for_90_precision]"
   ]
  },
  {
   "cell_type": "code",
   "execution_count": 42,
   "metadata": {},
   "outputs": [
    {
     "data": {
      "text/plain": [
       "3370.0194991439594"
      ]
     },
     "execution_count": 42,
     "metadata": {},
     "output_type": "execute_result"
    }
   ],
   "source": [
    "threshold_for_90_precision"
   ]
  },
  {
   "cell_type": "code",
   "execution_count": 43,
   "metadata": {},
   "outputs": [],
   "source": [
    "y_pred = (scores_prediction >= threshold_for_90_precision)"
   ]
  },
  {
   "cell_type": "code",
   "execution_count": 44,
   "metadata": {},
   "outputs": [
    {
     "data": {
      "text/plain": [
       "array([False, False, False, ...,  True, False, False])"
      ]
     },
     "execution_count": 44,
     "metadata": {},
     "output_type": "execute_result"
    }
   ],
   "source": [
    "y_pred"
   ]
  },
  {
   "cell_type": "code",
   "execution_count": 47,
   "metadata": {},
   "outputs": [
    {
     "data": {
      "text/plain": [
       "0.4799852425751706"
      ]
     },
     "execution_count": 47,
     "metadata": {},
     "output_type": "execute_result"
    }
   ],
   "source": [
    "precision_max = precision_score(y_train_5, y_pred)\n",
    "precision_max\n",
    "\n",
    "recall = recall_score(y_train_5, y_pred)\n",
    "recall"
   ]
  },
  {
   "cell_type": "markdown",
   "metadata": {},
   "source": [
    "##### The ROC Curve\n",
    "The receiver operating characteristic (ROC) curve is another common tool\n",
    "used with binary classifiers. It is very similar to the precision/recall curve, but\n",
    "instead of plotting precision versus recall, the ROC curve plots the true\n",
    "positive rate (another name for recall) against the false positive rate (FPR).\n",
    "The FPR (also called the fall-out) is the ratio of negative instances that are\n",
    "incorrectly classified as positive. It is equal to 1 – the true negative rate\n",
    "(TNR), which is the ratio of negative instances that are correctly classified as\n",
    "negative. The TNR is also called specificity. Hence, the ROC curve plots\n",
    "sensitivity (recall) versus 1 – specificity."
   ]
  },
  {
   "cell_type": "code",
   "execution_count": 48,
   "metadata": {},
   "outputs": [],
   "source": [
    "from sklearn.metrics import roc_curve\n",
    "\n",
    "fpr, tpr, thresholds = roc_curve(y_train_5, scores_prediction)"
   ]
  },
  {
   "cell_type": "code",
   "execution_count": 52,
   "metadata": {},
   "outputs": [
    {
     "data": {
      "text/plain": [
       "array([  49442.43765905,   49441.43765905,   36801.60697028, ...,\n",
       "       -105763.22240074, -106527.45300471, -146348.56726174])"
      ]
     },
     "execution_count": 52,
     "metadata": {},
     "output_type": "execute_result"
    }
   ],
   "source": [
    "thresholds"
   ]
  },
  {
   "cell_type": "code",
   "execution_count": 67,
   "metadata": {},
   "outputs": [
    {
     "data": {
      "text/plain": [
       "[]"
      ]
     },
     "execution_count": 67,
     "metadata": {},
     "output_type": "execute_result"
    },
    {
     "data": {
      "image/png": "[encoded data removed]",
      "text/plain": [
       "<Figure size 640x480 with 1 Axes>"
      ]
     },
     "metadata": {},
     "output_type": "display_data"
    }
   ],
   "source": [
    "\n",
    "idx_for_90_precision = (thresholds <= threshold_for_90_precision).argmax()\n",
    "tpr_for_90_precision, fpr_for_90_precision = tpr[idx_for_90_precision], fpr[idx_for_90_precision]\n",
    " \n",
    "\n",
    "plt.plot(fpr, tpr, linewidth = 2, label = 'ROC_CURVE')\n",
    "plt.plot([fpr_for_90_precision], [tpr_for_90_precision], 'o', color = 'black', label = '90% of precision')\n",
    "plt.plot([0,1], [0,1], '--', color = 'black', label = 'Random Curve')\n",
    "\n",
    "plt.legend()\n",
    "plt.plot()"
   ]
  },
  {
   "cell_type": "code",
   "execution_count": 68,
   "metadata": {},
   "outputs": [
    {
     "data": {
      "text/plain": [
       "0.9604938554008616"
      ]
     },
     "execution_count": 68,
     "metadata": {},
     "output_type": "execute_result"
    }
   ],
   "source": [
    "from sklearn.metrics import roc_auc_score\n",
    "\n",
    "roc_auc_score(y_train_5, scores_prediction)"
   ]
  },
  {
   "cell_type": "markdown",
   "metadata": {},
   "source": [
    "Since the ROC curve is so similar to the precision/recall (PR) curve, you may wonder how\n",
    "to decide which one to use. As a rule of thumb, you should prefer the PR curve whenever\n",
    "the positive class is rare or when you care more about the false positives than the false\n",
    "negatives. Otherwise, use the ROC curve. For example, looking at the previous ROC\n",
    "curve (and the ROC AUC score), you may think that the classifier is really good. But this\n",
    "is mostly because there are few positives (5s) compared to the negatives (non-5s). In\n",
    "contrast, the PR curve makes it clear that the classifier has room for improvement: the\n",
    "curve could really be closer to the top-right corner (see Figure 3-6 again)."
   ]
  },
  {
   "cell_type": "code",
   "execution_count": 69,
   "metadata": {},
   "outputs": [],
   "source": [
    "from sklearn.ensemble import RandomForestClassifier\n",
    "\n",
    "rf = RandomForestClassifier(random_state=42)"
   ]
  },
  {
   "cell_type": "code",
   "execution_count": 70,
   "metadata": {},
   "outputs": [],
   "source": [
    "rf_scores = cross_val_predict(rf, x_train, y_train_5, cv = 3, method='predict_proba')"
   ]
  },
  {
   "cell_type": "code",
   "execution_count": 76,
   "metadata": {},
   "outputs": [
    {
     "data": {
      "text/plain": [
       "array([0.89, 0.01, 0.04, ..., 0.98, 0.08, 0.06])"
      ]
     },
     "execution_count": 76,
     "metadata": {},
     "output_type": "execute_result"
    }
   ],
   "source": [
    "rf_scores[:, 1]"
   ]
  },
  {
   "cell_type": "code",
   "execution_count": 77,
   "metadata": {},
   "outputs": [],
   "source": [
    "precisions_rf, recalls_rf, thresholds_rf = precision_recall_curve(y_train_5, rf_scores[:,1])"
   ]
  },
  {
   "cell_type": "code",
   "execution_count": 88,
   "metadata": {},
   "outputs": [
    {
     "data": {
      "image/png": "[encoded data removed]",
      "text/plain": [
       "<Figure size 640x480 with 1 Axes>"
      ]
     },
     "metadata": {},
     "output_type": "display_data"
    }
   ],
   "source": [
    "plt.plot(precisions_rf, recalls_rf, linewidth = 2, color = 'black', label = 'Random_Forest')\n",
    "plt.plot(precision, recall, '--' , label = 'SGDClassifier')\n",
    "plt.legend()\n",
    "plt.show()"
   ]
  },
  {
   "cell_type": "code",
   "execution_count": 92,
   "metadata": {},
   "outputs": [
    {
     "name": "stdout",
     "output_type": "stream",
     "text": [
      "0.9242275142688446\n",
      "0.9327181722735077\n"
     ]
    }
   ],
   "source": [
    "y_randonm_pred = (rf_scores[:, 1] > 0.5)\n",
    "\n",
    "f1_score_rf = f1_score(y_train_5, y_randonm_pred)\n",
    "print(f1_score_rf)\n",
    "\n",
    "\n",
    "roc_auc_curve_rf = roc_auc_score(y_train_5, y_randonm_pred)\n",
    "print(roc_auc_curve_rf)"
   ]
  }
 ],
 "metadata": {
  "kernelspec": {
   "display_name": "base",
   "language": "python",
   "name": "python3"
  },
  "language_info": {
   "codemirror_mode": {
    "name": "ipython",
    "version": 3
   },
   "file_extension": ".py",
   "mimetype": "text/x-python",
   "name": "python",
   "nbconvert_exporter": "python",
   "pygments_lexer": "ipython3",
   "version": "3.9.13"
  }
 },
 "nbformat": 4,
 "nbformat_minor": 2
}
